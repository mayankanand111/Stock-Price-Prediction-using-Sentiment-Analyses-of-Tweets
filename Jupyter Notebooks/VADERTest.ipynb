{
  "nbformat": 4,
  "nbformat_minor": 0,
  "metadata": {
    "colab": {
      "provenance": []
    },
    "kernelspec": {
      "name": "python3",
      "display_name": "Python 3"
    },
    "language_info": {
      "name": "python"
    }
  },
  "cells": [
    {
      "cell_type": "code",
      "metadata": {
        "colab": {
          "base_uri": "https://localhost:8080/"
        },
        "id": "cc0L00_u9_b8",
        "outputId": "878c2f73-b5e7-4301-d1f9-512c612cd69e"
      },
      "source": [
        "import nltk\n",
        "nltk.download('vader_lexicon')"
      ],
      "execution_count": null,
      "outputs": [
        {
          "output_type": "stream",
          "name": "stdout",
          "text": [
            "[nltk_data] Downloading package vader_lexicon to /root/nltk_data...\n"
          ]
        },
        {
          "output_type": "execute_result",
          "data": {
            "text/plain": [
              "True"
            ]
          },
          "metadata": {},
          "execution_count": 1
        }
      ]
    },
    {
      "cell_type": "code",
      "metadata": {
        "id": "wWSoZqIO-IiE",
        "colab": {
          "base_uri": "https://localhost:8080/"
        },
        "outputId": "87fdd667-900f-4f1a-e848-ac59d2f1bbb0"
      },
      "source": [
        "from nltk.sentiment.vader import SentimentIntensityAnalyzer"
      ],
      "execution_count": null,
      "outputs": [
        {
          "output_type": "stream",
          "name": "stderr",
          "text": [
            "/usr/local/lib/python3.7/dist-packages/nltk/twitter/__init__.py:20: UserWarning: The twython library has not been installed. Some functionality from the twitter package will not be available.\n",
            "  warnings.warn(\"The twython library has not been installed. \"\n"
          ]
        }
      ]
    },
    {
      "cell_type": "code",
      "metadata": {
        "id": "JxFXFgv7-MBk"
      },
      "source": [
        "sid = SentimentIntensityAnalyzer()"
      ],
      "execution_count": null,
      "outputs": []
    },
    {
      "cell_type": "code",
      "metadata": {
        "colab": {
          "base_uri": "https://localhost:8080/"
        },
        "id": "4f_kmeJ7-RPa",
        "outputId": "0e2cdaa3-c987-4a71-8346-24f6cb578c41"
      },
      "source": [
        "pip install tweet-preprocessor"
      ],
      "execution_count": null,
      "outputs": [
        {
          "output_type": "stream",
          "name": "stdout",
          "text": [
            "Collecting tweet-preprocessor\n",
            "  Downloading tweet_preprocessor-0.6.0-py3-none-any.whl (27 kB)\n",
            "Installing collected packages: tweet-preprocessor\n",
            "Successfully installed tweet-preprocessor-0.6.0\n"
          ]
        }
      ]
    },
    {
      "cell_type": "code",
      "metadata": {
        "id": "HCELGBw4_utT"
      },
      "source": [
        "import numpy as np\n",
        "import pandas as pd"
      ],
      "execution_count": null,
      "outputs": []
    },
    {
      "cell_type": "code",
      "metadata": {
        "id": "9qEuxXVxAWSd"
      },
      "source": [
        "df = data = pd.read_csv('stock_data_MICROSOFT.csv', sep=\",\")"
      ],
      "execution_count": null,
      "outputs": []
    },
    {
      "cell_type": "code",
      "metadata": {
        "id": "lOLs1p8rA9Aa"
      },
      "source": [
        "df = df[['Text']]"
      ],
      "execution_count": null,
      "outputs": []
    },
    {
      "cell_type": "code",
      "metadata": {
        "colab": {
          "base_uri": "https://localhost:8080/",
          "height": 423
        },
        "id": "ESNAjfqLF4cl",
        "outputId": "65b29c79-7506-42ba-9167-9cb622d11e95"
      },
      "source": [
        "df"
      ],
      "execution_count": null,
      "outputs": [
        {
          "output_type": "execute_result",
          "data": {
            "text/html": [
              "<div>\n",
              "<style scoped>\n",
              "    .dataframe tbody tr th:only-of-type {\n",
              "        vertical-align: middle;\n",
              "    }\n",
              "\n",
              "    .dataframe tbody tr th {\n",
              "        vertical-align: top;\n",
              "    }\n",
              "\n",
              "    .dataframe thead th {\n",
              "        text-align: right;\n",
              "    }\n",
              "</style>\n",
              "<table border=\"1\" class=\"dataframe\">\n",
              "  <thead>\n",
              "    <tr style=\"text-align: right;\">\n",
              "      <th></th>\n",
              "      <th>Text</th>\n",
              "    </tr>\n",
              "  </thead>\n",
              "  <tbody>\n",
              "    <tr>\n",
              "      <th>0</th>\n",
              "      <td>@DrBullShark $AMZN $MSFT $FB $AAPL were my go ...</td>\n",
              "    </tr>\n",
              "    <tr>\n",
              "      <th>1</th>\n",
              "      <td>PF（順不同）\\n$AAPL $DDOG $NET $GOOGL $U $MSFT $NTR...</td>\n",
              "    </tr>\n",
              "    <tr>\n",
              "      <th>2</th>\n",
              "      <td>@Chart2Me Here is your daily chart for Microso...</td>\n",
              "    </tr>\n",
              "    <tr>\n",
              "      <th>3</th>\n",
              "      <td>Will the dip continue this week? $MSFT #chartme</td>\n",
              "    </tr>\n",
              "    <tr>\n",
              "      <th>4</th>\n",
              "      <td>Market Discussion &amp;amp; Analysis for 11.29.21\\...</td>\n",
              "    </tr>\n",
              "    <tr>\n",
              "      <th>...</th>\n",
              "      <td>...</td>\n",
              "    </tr>\n",
              "    <tr>\n",
              "      <th>210623</th>\n",
              "      <td>Portfolio 11/30 (company, allocation)\\n$TTD 15...</td>\n",
              "    </tr>\n",
              "    <tr>\n",
              "      <th>210624</th>\n",
              "      <td>$QQQ needs some loving. Now that $GOOGL $TSLA ...</td>\n",
              "    </tr>\n",
              "    <tr>\n",
              "      <th>210625</th>\n",
              "      <td>Mon:$400B traded $TSLA $AAPL $AMZN $MRNA// $NI...</td>\n",
              "    </tr>\n",
              "    <tr>\n",
              "      <th>210626</th>\n",
              "      <td>3) Work From Home\\na) Platforms - $ASAN $TEAM ...</td>\n",
              "    </tr>\n",
              "    <tr>\n",
              "      <th>210627</th>\n",
              "      <td>$MRNA $LULU $IPOB $CHWY some of thr big winner...</td>\n",
              "    </tr>\n",
              "  </tbody>\n",
              "</table>\n",
              "<p>210628 rows × 1 columns</p>\n",
              "</div>"
            ],
            "text/plain": [
              "                                                     Text\n",
              "0       @DrBullShark $AMZN $MSFT $FB $AAPL were my go ...\n",
              "1       PF（順不同）\\n$AAPL $DDOG $NET $GOOGL $U $MSFT $NTR...\n",
              "2       @Chart2Me Here is your daily chart for Microso...\n",
              "3         Will the dip continue this week? $MSFT #chartme\n",
              "4       Market Discussion &amp; Analysis for 11.29.21\\...\n",
              "...                                                   ...\n",
              "210623  Portfolio 11/30 (company, allocation)\\n$TTD 15...\n",
              "210624  $QQQ needs some loving. Now that $GOOGL $TSLA ...\n",
              "210625  Mon:$400B traded $TSLA $AAPL $AMZN $MRNA// $NI...\n",
              "210626  3) Work From Home\\na) Platforms - $ASAN $TEAM ...\n",
              "210627  $MRNA $LULU $IPOB $CHWY some of thr big winner...\n",
              "\n",
              "[210628 rows x 1 columns]"
            ]
          },
          "metadata": {},
          "execution_count": 9
        }
      ]
    },
    {
      "cell_type": "code",
      "metadata": {
        "id": "Il1qB2KoaZaM"
      },
      "source": [
        "stopwords = [\"for\", \"on\", \"an\", \"a\", \"of\", \"and\", \"in\", \"the\", \"to\", \"from\"]"
      ],
      "execution_count": null,
      "outputs": []
    },
    {
      "cell_type": "code",
      "metadata": {
        "id": "ogEOFMpQDSGo"
      },
      "source": [
        "import numpy as np\n",
        "import re\n",
        "\n",
        "def clean_tweet(tweet):\n",
        "    if type(tweet) == np.float:\n",
        "        return \"\"\n",
        "    temp = tweet.strip('\"')\n",
        "    temp = temp.lower()\n",
        "    temp = re.sub(\"'\", \"\", temp) # to avoid removing contractions in english\n",
        "    temp = re.sub(\"@[A-Za-z0-9_]+\",\"\", temp)\n",
        "    temp = re.sub(\"#[A-Za-z0-9_]+\",\"\", temp)\n",
        "    temp = re.sub(\"$[A-Za-z0-9_]+\",\"\", temp)\n",
        "    temp = re.sub(r'http\\S+', '', temp)\n",
        "    temp = re.sub('[()!?]', ' ', temp)\n",
        "    temp = re.sub('\\[.*?:\\]',' ', temp)\n",
        "    temp = re.sub(r'[^\\x00-\\x7F]+', '',temp)\n",
        "    temp = re.sub(\"[^a-z]\",\" \", temp)\n",
        "    temp = temp.split()\n",
        "    temp = [w for w in temp if not w in stopwords]\n",
        "    temp = \" \".join(word for word in temp)\n",
        "    return temp"
      ],
      "execution_count": null,
      "outputs": []
    },
    {
      "cell_type": "code",
      "metadata": {
        "id": "WXiBD0l8D9UK"
      },
      "source": [
        "list = df['Text'].to_list()"
      ],
      "execution_count": null,
      "outputs": []
    },
    {
      "cell_type": "code",
      "metadata": {
        "id": "3iEzFzzdFUHa"
      },
      "source": [
        "results = [clean_tweet(tw) for tw in list]"
      ],
      "execution_count": null,
      "outputs": []
    },
    {
      "cell_type": "code",
      "metadata": {
        "id": "dcdzn69oMAnx"
      },
      "source": [
        "df1 = pd.DataFrame(results, columns =['Tweets'])"
      ],
      "execution_count": null,
      "outputs": []
    },
    {
      "cell_type": "code",
      "metadata": {
        "id": "3I7lWFfXLmPa"
      },
      "source": [
        "df1['Tweets'].replace('', np.nan, inplace=True)"
      ],
      "execution_count": null,
      "outputs": []
    },
    {
      "cell_type": "code",
      "metadata": {
        "id": "-tuAblpDTkzb"
      },
      "source": [
        "df1 = df1. dropna()"
      ],
      "execution_count": null,
      "outputs": []
    },
    {
      "cell_type": "code",
      "metadata": {
        "colab": {
          "base_uri": "https://localhost:8080/"
        },
        "id": "EB1jsIdDWUqM",
        "outputId": "18b7e55b-018f-4c2e-8384-bacf385c18aa"
      },
      "source": [
        "df1['Tweets']"
      ],
      "execution_count": null,
      "outputs": [
        {
          "output_type": "execute_result",
          "data": {
            "text/plain": [
              "0                 amzn msft fb aapl were my go names friday\n",
              "1         pf aapl ddog net googl u msft ntr nvda cfd sp ...\n",
              "2         here is your daily chart microsoft corporation...\n",
              "3                          will dip continue this week msft\n",
              "4         market discussion amp analysis es qqq aapl afr...\n",
              "                                ...                        \n",
              "210623    portfolio company allocation ttd shop enph nvt...\n",
              "210624    qqq needs some loving now that googl tsla aapl...\n",
              "210625    mon b traded tsla aapl amzn mrna nio zm amd ba...\n",
              "210626    work home platforms asan team jamf zm msft b i...\n",
              "210627    mrna lulu ipob chwy some thr big winners our t...\n",
              "Name: Tweets, Length: 210323, dtype: object"
            ]
          },
          "metadata": {},
          "execution_count": 17
        }
      ]
    },
    {
      "cell_type": "code",
      "metadata": {
        "id": "fsw5yYZtTljr"
      },
      "source": [
        "df1['Scores'] = df1['Tweets'].apply(lambda tweet: sid.polarity_scores(tweet))"
      ],
      "execution_count": null,
      "outputs": []
    },
    {
      "cell_type": "code",
      "metadata": {
        "id": "Hgg_jMXRUNeM"
      },
      "source": [
        "df1.drop('Tweets', axis=1, inplace=True)"
      ],
      "execution_count": null,
      "outputs": []
    },
    {
      "cell_type": "code",
      "metadata": {
        "id": "z4NZzLH-H2BS"
      },
      "source": [
        "df1.to_csv('demo.csv')"
      ],
      "execution_count": null,
      "outputs": []
    },
    {
      "cell_type": "code",
      "metadata": {
        "id": "U-GOfjOoZjen"
      },
      "source": [
        "df1['Compound']  = df1['Scores'].apply(lambda score_dict: score_dict['compound'])"
      ],
      "execution_count": null,
      "outputs": []
    },
    {
      "cell_type": "code",
      "metadata": {
        "id": "Xl5tRTSdZyfJ"
      },
      "source": [
        "df1['Comp_score'] = df1['Compound'].apply(lambda c: \"neg\" if c<0 else \"pos\" if c>0 else \"neutral\")"
      ],
      "execution_count": null,
      "outputs": []
    },
    {
      "cell_type": "code",
      "metadata": {
        "colab": {
          "base_uri": "https://localhost:8080/",
          "height": 423
        },
        "id": "1LOk31pFaIS4",
        "outputId": "3c5b93bf-3871-44d2-d8a2-04203f3bf452"
      },
      "source": [
        "df1"
      ],
      "execution_count": null,
      "outputs": [
        {
          "output_type": "execute_result",
          "data": {
            "text/html": [
              "<div>\n",
              "<style scoped>\n",
              "    .dataframe tbody tr th:only-of-type {\n",
              "        vertical-align: middle;\n",
              "    }\n",
              "\n",
              "    .dataframe tbody tr th {\n",
              "        vertical-align: top;\n",
              "    }\n",
              "\n",
              "    .dataframe thead th {\n",
              "        text-align: right;\n",
              "    }\n",
              "</style>\n",
              "<table border=\"1\" class=\"dataframe\">\n",
              "  <thead>\n",
              "    <tr style=\"text-align: right;\">\n",
              "      <th></th>\n",
              "      <th>Tweets</th>\n",
              "      <th>Scores</th>\n",
              "      <th>Compound</th>\n",
              "      <th>Comp_score</th>\n",
              "    </tr>\n",
              "  </thead>\n",
              "  <tbody>\n",
              "    <tr>\n",
              "      <th>0</th>\n",
              "      <td>amzn msft fb aapl were my go names friday</td>\n",
              "      <td>{'neg': 0.0, 'neu': 1.0, 'pos': 0.0, 'compound...</td>\n",
              "      <td>0.0000</td>\n",
              "      <td>neutral</td>\n",
              "    </tr>\n",
              "    <tr>\n",
              "      <th>1</th>\n",
              "      <td>pf aapl ddog net googl u msft ntr nvda cfd sp ...</td>\n",
              "      <td>{'neg': 0.0, 'neu': 1.0, 'pos': 0.0, 'compound...</td>\n",
              "      <td>0.0000</td>\n",
              "      <td>neutral</td>\n",
              "    </tr>\n",
              "    <tr>\n",
              "      <th>2</th>\n",
              "      <td>here is your daily chart microsoft corporation...</td>\n",
              "      <td>{'neg': 0.0, 'neu': 1.0, 'pos': 0.0, 'compound...</td>\n",
              "      <td>0.0000</td>\n",
              "      <td>neutral</td>\n",
              "    </tr>\n",
              "    <tr>\n",
              "      <th>3</th>\n",
              "      <td>will dip continue this week msft</td>\n",
              "      <td>{'neg': 0.0, 'neu': 1.0, 'pos': 0.0, 'compound...</td>\n",
              "      <td>0.0000</td>\n",
              "      <td>neutral</td>\n",
              "    </tr>\n",
              "    <tr>\n",
              "      <th>4</th>\n",
              "      <td>market discussion amp analysis es qqq aapl afr...</td>\n",
              "      <td>{'neg': 0.0, 'neu': 0.801, 'pos': 0.199, 'comp...</td>\n",
              "      <td>0.7717</td>\n",
              "      <td>pos</td>\n",
              "    </tr>\n",
              "    <tr>\n",
              "      <th>...</th>\n",
              "      <td>...</td>\n",
              "      <td>...</td>\n",
              "      <td>...</td>\n",
              "      <td>...</td>\n",
              "    </tr>\n",
              "    <tr>\n",
              "      <th>210623</th>\n",
              "      <td>portfolio company allocation ttd shop enph nvt...</td>\n",
              "      <td>{'neg': 0.0, 'neu': 1.0, 'pos': 0.0, 'compound...</td>\n",
              "      <td>0.0000</td>\n",
              "      <td>neutral</td>\n",
              "    </tr>\n",
              "    <tr>\n",
              "      <th>210624</th>\n",
              "      <td>qqq needs some loving now that googl tsla aapl...</td>\n",
              "      <td>{'neg': 0.0, 'neu': 0.83, 'pos': 0.17, 'compou...</td>\n",
              "      <td>0.5994</td>\n",
              "      <td>pos</td>\n",
              "    </tr>\n",
              "    <tr>\n",
              "      <th>210625</th>\n",
              "      <td>mon b traded tsla aapl amzn mrna nio zm amd ba...</td>\n",
              "      <td>{'neg': 0.0, 'neu': 1.0, 'pos': 0.0, 'compound...</td>\n",
              "      <td>0.0000</td>\n",
              "      <td>neutral</td>\n",
              "    </tr>\n",
              "    <tr>\n",
              "      <th>210626</th>\n",
              "      <td>work home platforms asan team jamf zm msft b i...</td>\n",
              "      <td>{'neg': 0.0, 'neu': 1.0, 'pos': 0.0, 'compound...</td>\n",
              "      <td>0.0000</td>\n",
              "      <td>neutral</td>\n",
              "    </tr>\n",
              "    <tr>\n",
              "      <th>210627</th>\n",
              "      <td>mrna lulu ipob chwy some thr big winners our t...</td>\n",
              "      <td>{'neg': 0.0, 'neu': 0.803, 'pos': 0.197, 'comp...</td>\n",
              "      <td>0.8336</td>\n",
              "      <td>pos</td>\n",
              "    </tr>\n",
              "  </tbody>\n",
              "</table>\n",
              "<p>210323 rows × 4 columns</p>\n",
              "</div>"
            ],
            "text/plain": [
              "                                                   Tweets  ... Comp_score\n",
              "0               amzn msft fb aapl were my go names friday  ...    neutral\n",
              "1       pf aapl ddog net googl u msft ntr nvda cfd sp ...  ...    neutral\n",
              "2       here is your daily chart microsoft corporation...  ...    neutral\n",
              "3                        will dip continue this week msft  ...    neutral\n",
              "4       market discussion amp analysis es qqq aapl afr...  ...        pos\n",
              "...                                                   ...  ...        ...\n",
              "210623  portfolio company allocation ttd shop enph nvt...  ...    neutral\n",
              "210624  qqq needs some loving now that googl tsla aapl...  ...        pos\n",
              "210625  mon b traded tsla aapl amzn mrna nio zm amd ba...  ...    neutral\n",
              "210626  work home platforms asan team jamf zm msft b i...  ...    neutral\n",
              "210627  mrna lulu ipob chwy some thr big winners our t...  ...        pos\n",
              "\n",
              "[210323 rows x 4 columns]"
            ]
          },
          "metadata": {},
          "execution_count": 346
        }
      ]
    },
    {
      "cell_type": "code",
      "metadata": {
        "id": "SsMJhmgNatBV"
      },
      "source": [
        "df1.to_csv(\"stock_data_MICROSOFT_VADER_Sentiments.csv\")"
      ],
      "execution_count": null,
      "outputs": []
    },
    {
      "cell_type": "code",
      "metadata": {
        "id": "xz091Q2WMhLj"
      },
      "source": [],
      "execution_count": null,
      "outputs": []
    }
  ]
}